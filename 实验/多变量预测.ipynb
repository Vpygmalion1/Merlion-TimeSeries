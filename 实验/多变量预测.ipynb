{
 "cells": [
  {
   "cell_type": "markdown",
   "id": "e30c895a",
   "metadata": {},
   "source": [
    "多变量时间序列预测的工作原理与单变量时间序列预测类似。主要的区别是，你必须指定要预测的目标单变量的索引，例如，对于一个5个变量的时间序列，你可能想预测第3个变量的值（我们通过指示target_seq_index = 2来指定）"
   ]
  },
  {
   "cell_type": "code",
   "execution_count": 162,
   "id": "414ccada",
   "metadata": {},
   "outputs": [],
   "source": [
    "import pandas as pd\n",
    "import matplotlib.pyplot as plt\n",
    "from merlion.utils import TimeSeries\n",
    "from merlion.models.forecast.arima import Arima, ArimaConfig\n",
    "from merlion.models.forecast.smoother import MSES, MSESConfig\n",
    "from merlion.models.forecast.baggingtrees import BaggingTreeForecaster,BaggingTreeForecasterConfig\n",
    "\n",
    "from merlion.transform.base import Identity\n",
    "from merlion.transform.resample import TemporalResample\n",
    "from merlion.evaluate.forecast import ForecastMetric\n",
    "from merlion.models.ensemble.combine import Mean, ModelSelector\n",
    "from merlion.models.ensemble.forecast import ForecasterEnsemble, ForecasterEnsembleConfig\n",
    "from merlion.models.factory import ModelFactory"
   ]
  },
  {
   "cell_type": "code",
   "execution_count": 163,
   "id": "511aec2f",
   "metadata": {},
   "outputs": [
    {
     "data": {
      "text/html": [
       "<div>\n",
       "<style scoped>\n",
       "    .dataframe tbody tr th:only-of-type {\n",
       "        vertical-align: middle;\n",
       "    }\n",
       "\n",
       "    .dataframe tbody tr th {\n",
       "        vertical-align: top;\n",
       "    }\n",
       "\n",
       "    .dataframe thead th {\n",
       "        text-align: right;\n",
       "    }\n",
       "</style>\n",
       "<table border=\"1\" class=\"dataframe\">\n",
       "  <thead>\n",
       "    <tr style=\"text-align: right;\">\n",
       "      <th></th>\n",
       "      <th>closeLogDiff</th>\n",
       "      <th>diff(G1000037)_9_abs</th>\n",
       "      <th>diff(G0008003)_12_abs</th>\n",
       "      <th>diff(G0000029)_12</th>\n",
       "      <th>logDiff(G0001596)_12</th>\n",
       "      <th>P9918147_exp</th>\n",
       "      <th>diff(G1400003)_12_exp</th>\n",
       "    </tr>\n",
       "    <tr>\n",
       "      <th>month</th>\n",
       "      <th></th>\n",
       "      <th></th>\n",
       "      <th></th>\n",
       "      <th></th>\n",
       "      <th></th>\n",
       "      <th></th>\n",
       "      <th></th>\n",
       "    </tr>\n",
       "  </thead>\n",
       "  <tbody>\n",
       "    <tr>\n",
       "      <th>2001-01-01</th>\n",
       "      <td>-0.085514</td>\n",
       "      <td>544.25</td>\n",
       "      <td>0.6</td>\n",
       "      <td>0.6</td>\n",
       "      <td>-0.284451</td>\n",
       "      <td>20.085537</td>\n",
       "      <td>0.485815</td>\n",
       "    </tr>\n",
       "    <tr>\n",
       "      <th>2001-02-01</th>\n",
       "      <td>-0.020605</td>\n",
       "      <td>1271.25</td>\n",
       "      <td>0.5</td>\n",
       "      <td>0.5</td>\n",
       "      <td>0.012202</td>\n",
       "      <td>16.444647</td>\n",
       "      <td>0.504234</td>\n",
       "    </tr>\n",
       "    <tr>\n",
       "      <th>2001-03-01</th>\n",
       "      <td>0.004219</td>\n",
       "      <td>1225.00</td>\n",
       "      <td>0.4</td>\n",
       "      <td>0.3</td>\n",
       "      <td>-0.232695</td>\n",
       "      <td>16.444647</td>\n",
       "      <td>0.550430</td>\n",
       "    </tr>\n",
       "    <tr>\n",
       "      <th>2001-04-01</th>\n",
       "      <td>0.014296</td>\n",
       "      <td>1353.25</td>\n",
       "      <td>0.5</td>\n",
       "      <td>0.3</td>\n",
       "      <td>-0.371287</td>\n",
       "      <td>22.197951</td>\n",
       "      <td>0.717307</td>\n",
       "    </tr>\n",
       "    <tr>\n",
       "      <th>2001-05-01</th>\n",
       "      <td>0.015411</td>\n",
       "      <td>2390.50</td>\n",
       "      <td>0.7</td>\n",
       "      <td>0.1</td>\n",
       "      <td>-0.258590</td>\n",
       "      <td>24.532530</td>\n",
       "      <td>0.742841</td>\n",
       "    </tr>\n",
       "  </tbody>\n",
       "</table>\n",
       "</div>"
      ],
      "text/plain": [
       "            closeLogDiff  diff(G1000037)_9_abs  diff(G0008003)_12_abs  \\\n",
       "month                                                                   \n",
       "2001-01-01     -0.085514                544.25                    0.6   \n",
       "2001-02-01     -0.020605               1271.25                    0.5   \n",
       "2001-03-01      0.004219               1225.00                    0.4   \n",
       "2001-04-01      0.014296               1353.25                    0.5   \n",
       "2001-05-01      0.015411               2390.50                    0.7   \n",
       "\n",
       "            diff(G0000029)_12  logDiff(G0001596)_12  P9918147_exp  \\\n",
       "month                                                               \n",
       "2001-01-01                0.6             -0.284451     20.085537   \n",
       "2001-02-01                0.5              0.012202     16.444647   \n",
       "2001-03-01                0.3             -0.232695     16.444647   \n",
       "2001-04-01                0.3             -0.371287     22.197951   \n",
       "2001-05-01                0.1             -0.258590     24.532530   \n",
       "\n",
       "            diff(G1400003)_12_exp  \n",
       "month                              \n",
       "2001-01-01               0.485815  \n",
       "2001-02-01               0.504234  \n",
       "2001-03-01               0.550430  \n",
       "2001-04-01               0.717307  \n",
       "2001-05-01               0.742841  "
      ]
     },
     "execution_count": 163,
     "metadata": {},
     "output_type": "execute_result"
    }
   ],
   "source": [
    "# 读取数据\n",
    "df = pd.read_csv('Predict_Data_6.csv')\n",
    "df['month'] = pd.to_datetime(df['month'])\n",
    "df = df.set_index('month')\n",
    "df.head()"
   ]
  },
  {
   "cell_type": "code",
   "execution_count": 164,
   "id": "624a393f",
   "metadata": {},
   "outputs": [],
   "source": [
    "# 转换格式，划分数据集\n",
    "time_series_train = TimeSeries.from_pd(df.iloc[:int(df.shape[0]*0.8),:])\n",
    "time_series_test = TimeSeries.from_pd(df.iloc[int(df.shape[0]*0.8):,:])"
   ]
  },
  {
   "cell_type": "code",
   "execution_count": 165,
   "id": "6a5e7fa8",
   "metadata": {},
   "outputs": [
    {
     "data": {
      "text/plain": [
       "(244, 7)"
      ]
     },
     "execution_count": 165,
     "metadata": {},
     "output_type": "execute_result"
    }
   ],
   "source": [
    "df.shape"
   ]
  },
  {
   "cell_type": "code",
   "execution_count": 166,
   "id": "68a60676",
   "metadata": {},
   "outputs": [
    {
     "data": {
      "text/plain": [
       "(7, 195)"
      ]
     },
     "execution_count": 166,
     "metadata": {},
     "output_type": "execute_result"
    }
   ],
   "source": [
    "time_series_train.shape"
   ]
  },
  {
   "cell_type": "code",
   "execution_count": 167,
   "id": "907de093",
   "metadata": {},
   "outputs": [],
   "source": [
    "# time_series_test.shape"
   ]
  },
  {
   "cell_type": "code",
   "execution_count": 168,
   "id": "c628cf79",
   "metadata": {},
   "outputs": [],
   "source": [
    "# 参数\n",
    "max_forecast_steps  = 100\n",
    "target_seq_index = 0"
   ]
  },
  {
   "cell_type": "code",
   "execution_count": 169,
   "id": "ff45eaa3",
   "metadata": {},
   "outputs": [],
   "source": [
    "# 初始化模型\n",
    "config1 = ArimaConfig(max_forecast_steps=max_forecast_steps, target_seq_index=target_seq_index, order=(25, 1, 6),transform=Identity())\n",
    "model1  = Arima(config1)\n",
    "config2 = MSESConfig(max_forecast_steps=max_forecast_steps, target_seq_index=target_seq_index, max_backstep=60,transform=Identity())\n",
    "model2  = MSES(config2)\n"
   ]
  },
  {
   "cell_type": "code",
   "execution_count": 170,
   "id": "d5f4b932",
   "metadata": {},
   "outputs": [],
   "source": [
    "# 集成模型\n",
    "# selector_config = ForecasterEnsembleConfig(\n",
    "#     combiner=ModelSelector(metric=ForecastMetric.sMAPE))\n",
    "# model3 = ForecasterEnsemble(\n",
    "#     config=selector_config, models=[model1, model2])"
   ]
  },
  {
   "cell_type": "code",
   "execution_count": 171,
   "id": "49fab6f2",
   "metadata": {},
   "outputs": [
    {
     "name": "stdout",
     "output_type": "stream",
     "text": [
      "Training Arima...\n"
     ]
    }
   ],
   "source": [
    "for model in [model1]:\n",
    "    print(f\"Training {type(model).__name__}...\")\n",
    "    train_pred, train_stderr = model.train(time_series_train)"
   ]
  },
  {
   "cell_type": "code",
   "execution_count": 172,
   "id": "d44f67f1",
   "metadata": {},
   "outputs": [],
   "source": [
    "def train_model(model):\n",
    "    for model in model:\n",
    "        print(f\"Training {type(model).__name__}...\")\n",
    "        train_pred, train_stderr = model.train(time_series_train)"
   ]
  },
  {
   "cell_type": "code",
   "execution_count": 173,
   "id": "8c856f40",
   "metadata": {},
   "outputs": [
    {
     "name": "stdout",
     "output_type": "stream",
     "text": [
      "Training Arima...\n",
      "Training MSES...\n"
     ]
    }
   ],
   "source": [
    "# 训练模型\n",
    "for model in [model1, model2]:\n",
    "    print(f\"Training {type(model).__name__}...\")\n",
    "    train_pred, train_stderr = model.train(time_series_train)"
   ]
  },
  {
   "cell_type": "code",
   "execution_count": 174,
   "id": "daec87bc",
   "metadata": {},
   "outputs": [],
   "source": [
    "# 提取预测目标\n",
    "target_univariate = time_series_test.univariates['closeLogDiff']\n",
    "target = target_univariate[:max_forecast_steps].to_ts()"
   ]
  },
  {
   "cell_type": "code",
   "execution_count": 176,
   "id": "d11fc5de",
   "metadata": {},
   "outputs": [],
   "source": [
    "forecast1, stderr1 = model1.forecast(target.time_stamps)"
   ]
  },
  {
   "cell_type": "code",
   "execution_count": null,
   "id": "fa1d4614",
   "metadata": {},
   "outputs": [],
   "source": []
  },
  {
   "cell_type": "code",
   "execution_count": 175,
   "id": "ea7fae39",
   "metadata": {
    "scrolled": true
   },
   "outputs": [
    {
     "name": "stdout",
     "output_type": "stream",
     "text": [
      "Arima\n",
      "RMSE:  0.0355\n",
      "sMAPE: 115.4556\n",
      "\n"
     ]
    },
    {
     "data": {
      "image/png": "[encoded data removed]",
      "text/plain": [
       "<Figure size 720x432 with 1 Axes>"
      ]
     },
     "metadata": {},
     "output_type": "display_data"
    },
    {
     "name": "stdout",
     "output_type": "stream",
     "text": [
      "MSES\n",
      "RMSE:  0.1977\n",
      "sMAPE: 161.5929\n",
      "\n"
     ]
    },
    {
     "data": {
      "image/png": "[encoded data removed]",
      "text/plain": [
       "<Figure size 720x432 with 1 Axes>"
      ]
     },
     "metadata": {},
     "output_type": "display_data"
    }
   ],
   "source": [
    "# 预测\n",
    "for model in [model1, model2]:\n",
    "    forecast, stderr = model.forecast(target.time_stamps)\n",
    "    rmse = ForecastMetric.RMSE.value(ground_truth=target, predict=forecast)\n",
    "    smape = ForecastMetric.sMAPE.value(ground_truth=target, predict=forecast)\n",
    "    print(f\"{type(model).__name__}\")\n",
    "    print(f\"RMSE:  {rmse:.4f}\")\n",
    "    print(f\"sMAPE: {smape:.4f}\")\n",
    "    print()\n",
    "    \n",
    "    # 可视化\n",
    "    fig, ax = model.plot_forecast(time_series=time_series_test, plot_forecast_uncertainty=True)\n",
    "    plt.show()"
   ]
  },
  {
   "cell_type": "code",
   "execution_count": 177,
   "id": "9aa14fda",
   "metadata": {
    "scrolled": true
   },
   "outputs": [],
   "source": [
    "closeLogDiff = forecast1.univariates['closeLogDiff']"
   ]
  },
  {
   "cell_type": "code",
   "execution_count": 178,
   "id": "cfa8c26f",
   "metadata": {
    "scrolled": true
   },
   "outputs": [],
   "source": [
    "test_df = df.iloc[int(df.shape[0]*0.8):,:]"
   ]
  },
  {
   "cell_type": "code",
   "execution_count": 179,
   "id": "df76cd8d",
   "metadata": {},
   "outputs": [
    {
     "name": "stderr",
     "output_type": "stream",
     "text": [
      "<ipython-input-179-12c3f36209f8>:1: SettingWithCopyWarning: \n",
      "A value is trying to be set on a copy of a slice from a DataFrame.\n",
      "Try using .loc[row_indexer,col_indexer] = value instead\n",
      "\n",
      "See the caveats in the documentation: https://pandas.pydata.org/pandas-docs/stable/user_guide/indexing.html#returning-a-view-versus-a-copy\n",
      "  test_df['forcast'] = closeLogDiff\n"
     ]
    }
   ],
   "source": [
    "test_df['forcast'] = closeLogDiff"
   ]
  },
  {
   "cell_type": "code",
   "execution_count": 180,
   "id": "e31de5d6",
   "metadata": {},
   "outputs": [],
   "source": [
    "test_df = test_df.drop(labels=['diff(G1000037)_9_abs','diff(G0008003)_12_abs','diff(G0000029)_12','logDiff(G0001596)_12','P9918147_exp','diff(G1400003)_12_exp'],axis=1)"
   ]
  },
  {
   "cell_type": "code",
   "execution_count": 182,
   "id": "8c9cb881",
   "metadata": {},
   "outputs": [],
   "source": [
    "import numpy as np\n",
    "from sklearn.metrics import accuracy_score"
   ]
  },
  {
   "cell_type": "code",
   "execution_count": 184,
   "id": "e14d8caa",
   "metadata": {
    "scrolled": false
   },
   "outputs": [
    {
     "name": "stderr",
     "output_type": "stream",
     "text": [
      "<ipython-input-184-f085eb6017cf>:3: SettingWithCopyWarning: \n",
      "A value is trying to be set on a copy of a slice from a DataFrame\n",
      "\n",
      "See the caveats in the documentation: https://pandas.pydata.org/pandas-docs/stable/user_guide/indexing.html#returning-a-view-versus-a-copy\n",
      "  test_df['pred_tend'][0]=1\n"
     ]
    }
   ],
   "source": [
    "test_df['true_tend']=np.where(test_df.closeLogDiff.diff(periods=1) >= 0, 1, 0)\n",
    "test_df['pred_tend']=np.where(test_df.forcast.diff(periods=1) >= 0, 1, 0)\n",
    "test_df['pred_tend'][0]=1"
   ]
  },
  {
   "cell_type": "code",
   "execution_count": 185,
   "id": "ec0b30ed",
   "metadata": {},
   "outputs": [
    {
     "data": {
      "text/plain": [
       "0.5918367346938775"
      ]
     },
     "execution_count": 185,
     "metadata": {},
     "output_type": "execute_result"
    }
   ],
   "source": [
    "accuracy_score(test_df['true_tend'],test_df['pred_tend'])"
   ]
  },
  {
   "cell_type": "code",
   "execution_count": 190,
   "id": "386777ca",
   "metadata": {
    "scrolled": true
   },
   "outputs": [
    {
     "name": "stderr",
     "output_type": "stream",
     "text": [
      "<ipython-input-190-f292ecdc6cf3>:1: UserWarning: Boolean Series key will be reindexed to match DataFrame index.\n",
      "  a = len(test_df[test_df['closeLogDiff']>0][test_df['forcast']>0])\n",
      "<ipython-input-190-f292ecdc6cf3>:2: UserWarning: Boolean Series key will be reindexed to match DataFrame index.\n",
      "  b = len(test_df[test_df['closeLogDiff']<0][test_df['forcast']<0])\n"
     ]
    }
   ],
   "source": [
    "a = len(test_df[test_df['closeLogDiff']>0][test_df['forcast']>0])\n",
    "b = len(test_df[test_df['closeLogDiff']<0][test_df['forcast']<0])"
   ]
  },
  {
   "cell_type": "code",
   "execution_count": 191,
   "id": "35393329",
   "metadata": {},
   "outputs": [
    {
     "data": {
      "text/plain": [
       "0.673469387755102"
      ]
     },
     "execution_count": 191,
     "metadata": {},
     "output_type": "execute_result"
    }
   ],
   "source": [
    "(a+b)/len(test_df)"
   ]
  },
  {
   "cell_type": "code",
   "execution_count": 192,
   "id": "0b0579ee",
   "metadata": {},
   "outputs": [
    {
     "data": {
      "text/html": [
       "<div>\n",
       "<style scoped>\n",
       "    .dataframe tbody tr th:only-of-type {\n",
       "        vertical-align: middle;\n",
       "    }\n",
       "\n",
       "    .dataframe tbody tr th {\n",
       "        vertical-align: top;\n",
       "    }\n",
       "\n",
       "    .dataframe thead th {\n",
       "        text-align: right;\n",
       "    }\n",
       "</style>\n",
       "<table border=\"1\" class=\"dataframe\">\n",
       "  <thead>\n",
       "    <tr style=\"text-align: right;\">\n",
       "      <th></th>\n",
       "      <th>closeLogDiff</th>\n",
       "      <th>forcast</th>\n",
       "      <th>true_tend</th>\n",
       "      <th>pred_tend</th>\n",
       "    </tr>\n",
       "    <tr>\n",
       "      <th>month</th>\n",
       "      <th></th>\n",
       "      <th></th>\n",
       "      <th></th>\n",
       "      <th></th>\n",
       "    </tr>\n",
       "  </thead>\n",
       "  <tbody>\n",
       "    <tr>\n",
       "      <th>2017-04-01</th>\n",
       "      <td>0.092467</td>\n",
       "      <td>0.118150</td>\n",
       "      <td>0</td>\n",
       "      <td>1</td>\n",
       "    </tr>\n",
       "    <tr>\n",
       "      <th>2017-05-01</th>\n",
       "      <td>0.060337</td>\n",
       "      <td>0.084574</td>\n",
       "      <td>0</td>\n",
       "      <td>0</td>\n",
       "    </tr>\n",
       "    <tr>\n",
       "      <th>2017-06-01</th>\n",
       "      <td>0.052014</td>\n",
       "      <td>0.075764</td>\n",
       "      <td>0</td>\n",
       "      <td>0</td>\n",
       "    </tr>\n",
       "    <tr>\n",
       "      <th>2017-07-01</th>\n",
       "      <td>0.055703</td>\n",
       "      <td>0.038489</td>\n",
       "      <td>1</td>\n",
       "      <td>0</td>\n",
       "    </tr>\n",
       "    <tr>\n",
       "      <th>2017-08-01</th>\n",
       "      <td>0.043501</td>\n",
       "      <td>0.010701</td>\n",
       "      <td>0</td>\n",
       "      <td>0</td>\n",
       "    </tr>\n",
       "    <tr>\n",
       "      <th>2017-09-01</th>\n",
       "      <td>0.035469</td>\n",
       "      <td>-0.004584</td>\n",
       "      <td>0</td>\n",
       "      <td>0</td>\n",
       "    </tr>\n",
       "    <tr>\n",
       "      <th>2017-10-01</th>\n",
       "      <td>0.043193</td>\n",
       "      <td>-0.019958</td>\n",
       "      <td>1</td>\n",
       "      <td>0</td>\n",
       "    </tr>\n",
       "    <tr>\n",
       "      <th>2017-11-01</th>\n",
       "      <td>0.005753</td>\n",
       "      <td>-0.039870</td>\n",
       "      <td>0</td>\n",
       "      <td>0</td>\n",
       "    </tr>\n",
       "    <tr>\n",
       "      <th>2017-12-01</th>\n",
       "      <td>-0.014041</td>\n",
       "      <td>-0.051655</td>\n",
       "      <td>0</td>\n",
       "      <td>0</td>\n",
       "    </tr>\n",
       "    <tr>\n",
       "      <th>2018-01-01</th>\n",
       "      <td>-0.042388</td>\n",
       "      <td>-0.055829</td>\n",
       "      <td>0</td>\n",
       "      <td>0</td>\n",
       "    </tr>\n",
       "    <tr>\n",
       "      <th>2018-02-01</th>\n",
       "      <td>-0.066680</td>\n",
       "      <td>-0.051361</td>\n",
       "      <td>0</td>\n",
       "      <td>1</td>\n",
       "    </tr>\n",
       "    <tr>\n",
       "      <th>2018-03-01</th>\n",
       "      <td>-0.056383</td>\n",
       "      <td>-0.041563</td>\n",
       "      <td>1</td>\n",
       "      <td>1</td>\n",
       "    </tr>\n",
       "    <tr>\n",
       "      <th>2018-04-01</th>\n",
       "      <td>-0.066808</td>\n",
       "      <td>-0.035780</td>\n",
       "      <td>0</td>\n",
       "      <td>1</td>\n",
       "    </tr>\n",
       "    <tr>\n",
       "      <th>2018-05-01</th>\n",
       "      <td>-0.038820</td>\n",
       "      <td>-0.013137</td>\n",
       "      <td>1</td>\n",
       "      <td>1</td>\n",
       "    </tr>\n",
       "    <tr>\n",
       "      <th>2018-06-01</th>\n",
       "      <td>-0.025682</td>\n",
       "      <td>0.000875</td>\n",
       "      <td>1</td>\n",
       "      <td>1</td>\n",
       "    </tr>\n",
       "    <tr>\n",
       "      <th>2018-07-01</th>\n",
       "      <td>-0.023026</td>\n",
       "      <td>0.021621</td>\n",
       "      <td>1</td>\n",
       "      <td>1</td>\n",
       "    </tr>\n",
       "    <tr>\n",
       "      <th>2018-08-01</th>\n",
       "      <td>-0.017547</td>\n",
       "      <td>0.029524</td>\n",
       "      <td>1</td>\n",
       "      <td>1</td>\n",
       "    </tr>\n",
       "    <tr>\n",
       "      <th>2018-09-01</th>\n",
       "      <td>-0.031433</td>\n",
       "      <td>0.040058</td>\n",
       "      <td>0</td>\n",
       "      <td>1</td>\n",
       "    </tr>\n",
       "    <tr>\n",
       "      <th>2018-10-01</th>\n",
       "      <td>-0.021825</td>\n",
       "      <td>0.036559</td>\n",
       "      <td>1</td>\n",
       "      <td>0</td>\n",
       "    </tr>\n",
       "    <tr>\n",
       "      <th>2018-11-01</th>\n",
       "      <td>-0.015912</td>\n",
       "      <td>0.030911</td>\n",
       "      <td>1</td>\n",
       "      <td>0</td>\n",
       "    </tr>\n",
       "    <tr>\n",
       "      <th>2018-12-01</th>\n",
       "      <td>-0.007125</td>\n",
       "      <td>0.017985</td>\n",
       "      <td>1</td>\n",
       "      <td>0</td>\n",
       "    </tr>\n",
       "    <tr>\n",
       "      <th>2019-01-01</th>\n",
       "      <td>-0.018288</td>\n",
       "      <td>0.006767</td>\n",
       "      <td>0</td>\n",
       "      <td>0</td>\n",
       "    </tr>\n",
       "    <tr>\n",
       "      <th>2019-02-01</th>\n",
       "      <td>-0.019937</td>\n",
       "      <td>-0.005288</td>\n",
       "      <td>0</td>\n",
       "      <td>0</td>\n",
       "    </tr>\n",
       "    <tr>\n",
       "      <th>2019-03-01</th>\n",
       "      <td>-0.026126</td>\n",
       "      <td>-0.023245</td>\n",
       "      <td>0</td>\n",
       "      <td>0</td>\n",
       "    </tr>\n",
       "    <tr>\n",
       "      <th>2019-04-01</th>\n",
       "      <td>-0.015767</td>\n",
       "      <td>-0.027743</td>\n",
       "      <td>1</td>\n",
       "      <td>0</td>\n",
       "    </tr>\n",
       "    <tr>\n",
       "      <th>2019-05-01</th>\n",
       "      <td>-0.012223</td>\n",
       "      <td>-0.036758</td>\n",
       "      <td>1</td>\n",
       "      <td>0</td>\n",
       "    </tr>\n",
       "    <tr>\n",
       "      <th>2019-06-01</th>\n",
       "      <td>-0.016250</td>\n",
       "      <td>-0.037811</td>\n",
       "      <td>0</td>\n",
       "      <td>0</td>\n",
       "    </tr>\n",
       "    <tr>\n",
       "      <th>2019-07-01</th>\n",
       "      <td>-0.009553</td>\n",
       "      <td>-0.037405</td>\n",
       "      <td>1</td>\n",
       "      <td>1</td>\n",
       "    </tr>\n",
       "    <tr>\n",
       "      <th>2019-08-01</th>\n",
       "      <td>-0.019691</td>\n",
       "      <td>-0.032640</td>\n",
       "      <td>0</td>\n",
       "      <td>1</td>\n",
       "    </tr>\n",
       "    <tr>\n",
       "      <th>2019-09-01</th>\n",
       "      <td>0.005051</td>\n",
       "      <td>-0.027495</td>\n",
       "      <td>1</td>\n",
       "      <td>1</td>\n",
       "    </tr>\n",
       "    <tr>\n",
       "      <th>2019-10-01</th>\n",
       "      <td>-0.016924</td>\n",
       "      <td>-0.016725</td>\n",
       "      <td>0</td>\n",
       "      <td>1</td>\n",
       "    </tr>\n",
       "    <tr>\n",
       "      <th>2019-11-01</th>\n",
       "      <td>-0.012867</td>\n",
       "      <td>-0.008513</td>\n",
       "      <td>1</td>\n",
       "      <td>1</td>\n",
       "    </tr>\n",
       "    <tr>\n",
       "      <th>2019-12-01</th>\n",
       "      <td>0.012975</td>\n",
       "      <td>0.003699</td>\n",
       "      <td>1</td>\n",
       "      <td>1</td>\n",
       "    </tr>\n",
       "    <tr>\n",
       "      <th>2020-01-01</th>\n",
       "      <td>0.032464</td>\n",
       "      <td>0.011663</td>\n",
       "      <td>1</td>\n",
       "      <td>1</td>\n",
       "    </tr>\n",
       "    <tr>\n",
       "      <th>2020-02-01</th>\n",
       "      <td>0.081294</td>\n",
       "      <td>0.017250</td>\n",
       "      <td>1</td>\n",
       "      <td>1</td>\n",
       "    </tr>\n",
       "    <tr>\n",
       "      <th>2020-03-01</th>\n",
       "      <td>0.063295</td>\n",
       "      <td>0.021851</td>\n",
       "      <td>0</td>\n",
       "      <td>1</td>\n",
       "    </tr>\n",
       "    <tr>\n",
       "      <th>2020-04-01</th>\n",
       "      <td>0.079133</td>\n",
       "      <td>0.020857</td>\n",
       "      <td>1</td>\n",
       "      <td>0</td>\n",
       "    </tr>\n",
       "    <tr>\n",
       "      <th>2020-05-01</th>\n",
       "      <td>0.081270</td>\n",
       "      <td>0.018735</td>\n",
       "      <td>1</td>\n",
       "      <td>0</td>\n",
       "    </tr>\n",
       "    <tr>\n",
       "      <th>2020-06-01</th>\n",
       "      <td>0.078243</td>\n",
       "      <td>0.010801</td>\n",
       "      <td>0</td>\n",
       "      <td>0</td>\n",
       "    </tr>\n",
       "    <tr>\n",
       "      <th>2020-07-01</th>\n",
       "      <td>0.059158</td>\n",
       "      <td>0.004043</td>\n",
       "      <td>0</td>\n",
       "      <td>0</td>\n",
       "    </tr>\n",
       "    <tr>\n",
       "      <th>2020-08-01</th>\n",
       "      <td>0.022111</td>\n",
       "      <td>-0.004979</td>\n",
       "      <td>0</td>\n",
       "      <td>0</td>\n",
       "    </tr>\n",
       "    <tr>\n",
       "      <th>2020-09-01</th>\n",
       "      <td>0.009558</td>\n",
       "      <td>-0.010873</td>\n",
       "      <td>0</td>\n",
       "      <td>0</td>\n",
       "    </tr>\n",
       "    <tr>\n",
       "      <th>2020-10-01</th>\n",
       "      <td>0.017648</td>\n",
       "      <td>-0.018626</td>\n",
       "      <td>1</td>\n",
       "      <td>0</td>\n",
       "    </tr>\n",
       "    <tr>\n",
       "      <th>2020-11-01</th>\n",
       "      <td>0.026618</td>\n",
       "      <td>-0.020615</td>\n",
       "      <td>1</td>\n",
       "      <td>0</td>\n",
       "    </tr>\n",
       "    <tr>\n",
       "      <th>2020-12-01</th>\n",
       "      <td>-0.011115</td>\n",
       "      <td>-0.022702</td>\n",
       "      <td>0</td>\n",
       "      <td>0</td>\n",
       "    </tr>\n",
       "    <tr>\n",
       "      <th>2021-01-01</th>\n",
       "      <td>-0.028939</td>\n",
       "      <td>-0.022250</td>\n",
       "      <td>0</td>\n",
       "      <td>1</td>\n",
       "    </tr>\n",
       "    <tr>\n",
       "      <th>2021-02-01</th>\n",
       "      <td>-0.027353</td>\n",
       "      <td>-0.018272</td>\n",
       "      <td>1</td>\n",
       "      <td>1</td>\n",
       "    </tr>\n",
       "    <tr>\n",
       "      <th>2021-03-01</th>\n",
       "      <td>-0.011345</td>\n",
       "      <td>-0.014672</td>\n",
       "      <td>1</td>\n",
       "      <td>1</td>\n",
       "    </tr>\n",
       "    <tr>\n",
       "      <th>2021-04-01</th>\n",
       "      <td>-0.032991</td>\n",
       "      <td>-0.009033</td>\n",
       "      <td>0</td>\n",
       "      <td>1</td>\n",
       "    </tr>\n",
       "  </tbody>\n",
       "</table>\n",
       "</div>"
      ],
      "text/plain": [
       "            closeLogDiff   forcast  true_tend  pred_tend\n",
       "month                                                   \n",
       "2017-04-01      0.092467  0.118150          0          1\n",
       "2017-05-01      0.060337  0.084574          0          0\n",
       "2017-06-01      0.052014  0.075764          0          0\n",
       "2017-07-01      0.055703  0.038489          1          0\n",
       "2017-08-01      0.043501  0.010701          0          0\n",
       "2017-09-01      0.035469 -0.004584          0          0\n",
       "2017-10-01      0.043193 -0.019958          1          0\n",
       "2017-11-01      0.005753 -0.039870          0          0\n",
       "2017-12-01     -0.014041 -0.051655          0          0\n",
       "2018-01-01     -0.042388 -0.055829          0          0\n",
       "2018-02-01     -0.066680 -0.051361          0          1\n",
       "2018-03-01     -0.056383 -0.041563          1          1\n",
       "2018-04-01     -0.066808 -0.035780          0          1\n",
       "2018-05-01     -0.038820 -0.013137          1          1\n",
       "2018-06-01     -0.025682  0.000875          1          1\n",
       "2018-07-01     -0.023026  0.021621          1          1\n",
       "2018-08-01     -0.017547  0.029524          1          1\n",
       "2018-09-01     -0.031433  0.040058          0          1\n",
       "2018-10-01     -0.021825  0.036559          1          0\n",
       "2018-11-01     -0.015912  0.030911          1          0\n",
       "2018-12-01     -0.007125  0.017985          1          0\n",
       "2019-01-01     -0.018288  0.006767          0          0\n",
       "2019-02-01     -0.019937 -0.005288          0          0\n",
       "2019-03-01     -0.026126 -0.023245          0          0\n",
       "2019-04-01     -0.015767 -0.027743          1          0\n",
       "2019-05-01     -0.012223 -0.036758          1          0\n",
       "2019-06-01     -0.016250 -0.037811          0          0\n",
       "2019-07-01     -0.009553 -0.037405          1          1\n",
       "2019-08-01     -0.019691 -0.032640          0          1\n",
       "2019-09-01      0.005051 -0.027495          1          1\n",
       "2019-10-01     -0.016924 -0.016725          0          1\n",
       "2019-11-01     -0.012867 -0.008513          1          1\n",
       "2019-12-01      0.012975  0.003699          1          1\n",
       "2020-01-01      0.032464  0.011663          1          1\n",
       "2020-02-01      0.081294  0.017250          1          1\n",
       "2020-03-01      0.063295  0.021851          0          1\n",
       "2020-04-01      0.079133  0.020857          1          0\n",
       "2020-05-01      0.081270  0.018735          1          0\n",
       "2020-06-01      0.078243  0.010801          0          0\n",
       "2020-07-01      0.059158  0.004043          0          0\n",
       "2020-08-01      0.022111 -0.004979          0          0\n",
       "2020-09-01      0.009558 -0.010873          0          0\n",
       "2020-10-01      0.017648 -0.018626          1          0\n",
       "2020-11-01      0.026618 -0.020615          1          0\n",
       "2020-12-01     -0.011115 -0.022702          0          0\n",
       "2021-01-01     -0.028939 -0.022250          0          1\n",
       "2021-02-01     -0.027353 -0.018272          1          1\n",
       "2021-03-01     -0.011345 -0.014672          1          1\n",
       "2021-04-01     -0.032991 -0.009033          0          1"
      ]
     },
     "execution_count": 192,
     "metadata": {},
     "output_type": "execute_result"
    }
   ],
   "source": [
    "test_df"
   ]
  },
  {
   "cell_type": "code",
   "execution_count": null,
   "id": "307fcd18",
   "metadata": {},
   "outputs": [],
   "source": []
  }
 ],
 "metadata": {
  "kernelspec": {
   "display_name": "Python 3",
   "language": "python",
   "name": "python3"
  },
  "language_info": {
   "codemirror_mode": {
    "name": "ipython",
    "version": 3
   },
   "file_extension": ".py",
   "mimetype": "text/x-python",
   "name": "python",
   "nbconvert_exporter": "python",
   "pygments_lexer": "ipython3",
   "version": "3.8.8"
  }
 },
 "nbformat": 4,
 "nbformat_minor": 5
}
