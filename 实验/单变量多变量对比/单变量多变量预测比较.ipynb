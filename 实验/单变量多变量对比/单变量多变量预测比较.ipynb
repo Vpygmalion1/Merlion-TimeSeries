{
 "cells": [
  {
   "cell_type": "code",
   "execution_count": 1,
   "id": "ae1f078f",
   "metadata": {},
   "outputs": [
    {
     "name": "stderr",
     "output_type": "stream",
     "text": [
      "plotly not installed, so plotly visualizations will not work.\n"
     ]
    }
   ],
   "source": [
    "import pandas as pd\n",
    "import numpy as np\n",
    "import matplotlib.pyplot as plt\n",
    "from merlion.utils import TimeSeries\n",
    "from merlion.models.factory import ModelFactory\n",
    "from merlion.models.forecast.arima import Arima, ArimaConfig\n",
    "from merlion.models.forecast.arima import Sarima, SarimaConfig\n",
    "from merlion.models.forecast.smoother import MSES, MSESConfig\n",
    "\n",
    "from merlion.models.forecast.vector_ar import VectorAR,VectorARConfig\n",
    "from merlion.models.forecast.boostingtrees import LGBMForecasterConfig,LGBMForecaster\n",
    "from merlion.models.forecast.baggingtrees import RandomForestForecasterConfig,RandomForestForecaster,ExtraTreesForecasterConfig,ExtraTreesForecaster\n",
    "\n",
    "from merlion.transform.base import Identity\n",
    "from merlion.transform.resample import TemporalResample\n",
    "from merlion.evaluate.forecast import ForecastMetric\n",
    "\n",
    "from sklearn.metrics import accuracy_score"
   ]
  },
  {
   "cell_type": "code",
   "execution_count": 4,
   "id": "41964551",
   "metadata": {},
   "outputs": [],
   "source": [
    "result = pd.DataFrame(columns=['model','单/多变量','forecast_steps','rmse','smape'])"
   ]
  },
  {
   "cell_type": "code",
   "execution_count": 5,
   "id": "13b34b44",
   "metadata": {},
   "outputs": [],
   "source": [
    "# 参数\n",
    "target_seq_index = 3\n",
    "max_forecast_steps = [i for i in range(10,130,10)]\n",
    "maxlags = 50\n"
   ]
  },
  {
   "cell_type": "code",
   "execution_count": 6,
   "id": "3e2863c9",
   "metadata": {},
   "outputs": [],
   "source": [
    "def read_data(name):\n",
    "    \"\"\"\n",
    "    读取数据\n",
    "    \"\"\"\n",
    "    df = pd.read_csv(name)\n",
    "    df['datetime'] = pd.to_datetime(df['datetime'])\n",
    "    df = df.set_index('datetime')\n",
    "    return df"
   ]
  },
  {
   "cell_type": "code",
   "execution_count": 7,
   "id": "095a8abe",
   "metadata": {},
   "outputs": [],
   "source": [
    "def df_to_timeseries(df):\n",
    "    \"\"\"\n",
    "    转换格式，划分数据集\n",
    "    \"\"\"\n",
    "    train1 = TimeSeries.from_pd(df.iloc[:800,-1:])    \n",
    "    train2 = TimeSeries.from_pd(df.iloc[:800,:])\n",
    "    test = TimeSeries.from_pd(df.iloc[800:,:-1])\n",
    "    return train1,train2,test"
   ]
  },
  {
   "cell_type": "code",
   "execution_count": 8,
   "id": "fc9a5c6a",
   "metadata": {},
   "outputs": [],
   "source": [
    "def get_target(test,max_forecast_steps):\n",
    "    \"\"\"\n",
    "    获取需要预测的目标变量真值\n",
    "    \"\"\"\n",
    "    target_univariate = test.univariates[test.names[target_seq_index]]\n",
    "    target = target_univariate[:max_forecast_steps].to_ts()\n",
    "    return target"
   ]
  },
  {
   "cell_type": "code",
   "execution_count": 9,
   "id": "843dbd35",
   "metadata": {},
   "outputs": [],
   "source": [
    "def build_model(max_forecast_steps,target_seq_index,maxlags):\n",
    "    \"\"\"\n",
    "    构造模型\n",
    "    \"\"\"\n",
    "    config1 = LGBMForecasterConfig(max_forecast_steps=max_forecast_steps, target_seq_index=target_seq_index,maxlags=maxlags)\n",
    "    model1 = LGBMForecaster(config1)\n",
    "    config2 = RandomForestForecasterConfig(max_forecast_steps=max_forecast_steps, target_seq_index=target_seq_index,maxlags=maxlags)\n",
    "    model2 = RandomForestForecaster(config2)\n",
    "    config3 = ExtraTreesForecasterConfig(max_forecast_steps=max_forecast_steps, target_seq_index=target_seq_index,maxlags=maxlags)\n",
    "    model3 = ExtraTreesForecaster(config3)\n",
    "    config4 = VectorARConfig(max_forecast_steps=max_forecast_steps, target_seq_index=target_seq_index,maxlags=maxlags)\n",
    "    model4 = VectorAR(config4)\n",
    "\n",
    "    return model1,model2,model3,model4"
   ]
  },
  {
   "cell_type": "code",
   "execution_count": 3,
   "id": "a9d6d6dc",
   "metadata": {
    "scrolled": true
   },
   "outputs": [
    {
     "ename": "NameError",
     "evalue": "name 'read_data' is not defined",
     "output_type": "error",
     "traceback": [
      "\u001b[1;31m---------------------------------------------------------------------------\u001b[0m",
      "\u001b[1;31mNameError\u001b[0m                                 Traceback (most recent call last)",
      "\u001b[1;32m<ipython-input-3-699a8a761d3b>\u001b[0m in \u001b[0;36m<module>\u001b[1;34m\u001b[0m\n\u001b[0;32m      1\u001b[0m \u001b[1;32mif\u001b[0m \u001b[0m__name__\u001b[0m\u001b[1;33m==\u001b[0m\u001b[1;34m'__main__'\u001b[0m\u001b[1;33m:\u001b[0m\u001b[1;33m\u001b[0m\u001b[1;33m\u001b[0m\u001b[0m\n\u001b[0;32m      2\u001b[0m \u001b[1;33m\u001b[0m\u001b[0m\n\u001b[1;32m----> 3\u001b[1;33m     \u001b[0mdata\u001b[0m \u001b[1;33m=\u001b[0m \u001b[0mread_data\u001b[0m\u001b[1;33m(\u001b[0m\u001b[1;34m'EURUSD.csv'\u001b[0m\u001b[1;33m)\u001b[0m\u001b[1;33m\u001b[0m\u001b[1;33m\u001b[0m\u001b[0m\n\u001b[0m\u001b[0;32m      4\u001b[0m     \u001b[0mtrain1\u001b[0m\u001b[1;33m,\u001b[0m\u001b[0mtrain2\u001b[0m\u001b[1;33m,\u001b[0m\u001b[0mtest\u001b[0m \u001b[1;33m=\u001b[0m \u001b[0mdf_to_timeseries\u001b[0m\u001b[1;33m(\u001b[0m\u001b[0mdata\u001b[0m\u001b[1;33m)\u001b[0m\u001b[1;33m\u001b[0m\u001b[1;33m\u001b[0m\u001b[0m\n\u001b[0;32m      5\u001b[0m \u001b[1;33m\u001b[0m\u001b[0m\n",
      "\u001b[1;31mNameError\u001b[0m: name 'read_data' is not defined"
     ]
    }
   ],
   "source": [
    "if __name__=='__main__':\n",
    "    \n",
    "    data = read_data('EURUSD.csv')\n",
    "    train1,train2,test = df_to_timeseries(data)\n",
    "    \n",
    "    \n",
    "\n",
    "    # 训练模型\n",
    "    for steps in max_forecast_steps:\n",
    "        target = get_target(test,steps)\n",
    "        model1,model2,model3,model4 = build_model(steps,target_seq_index,maxlags)\n",
    "        for model in [model1,model2,model3,model4]:\n",
    "            print(f\"单变量Training {type(model).__name__}...\")\n",
    "            for train in [train1,train2]:\n",
    "                train_pred, train_stderr = model.train(train)\n",
    "                forecast, stderr = model.forecast(time_stamps = target.time_stamps,time_series_prev = test)\n",
    "                rmse = ForecastMetric.RMSE.value(ground_truth=target, predict=forecast)\n",
    "                smape = ForecastMetric.sMAPE.value(ground_truth=target, predict=forecast)\n",
    "                print(f\"{type(model).__name__}训练变量\")\n",
    "                print(f\"RMSE:  {rmse:.4f}\")\n",
    "                print(f\"sMAPE: {smape:.4f}\")\n",
    "        #         result_data,accuracy = assessment(forecast,data)\n",
    "                print()\n",
    "                result = result.append({'model':type(model).__name__,'单/多变量':train.names,'forecast_steps':steps,'rmse':rmse,'smape':smape},ignore_index=True) \n",
    "\n",
    "                # 可视化\n",
    "                fig, ax = model.plot_forecast(time_series=test[:steps])\n",
    "                plt.show()\n",
    "        #        fig6.savefig('C:/Users/TANGLINGHUI331/Desktop/Arima预测_6')\n",
    "    \n",
    "        print('--------------------------分割线---------------------------')\n",
    "    \n"
   ]
  },
  {
   "cell_type": "code",
   "execution_count": null,
   "id": "78030697",
   "metadata": {},
   "outputs": [],
   "source": [
    "result.to_csv('C:/Users/TANGLINGHUI331/Desktop/result.csv',index=False,encoding='gbk')"
   ]
  },
  {
   "cell_type": "code",
   "execution_count": null,
   "id": "2bbf3e3a",
   "metadata": {},
   "outputs": [],
   "source": [
    "result = pd.read_csv('C:/Users/TANGLINGHUI331/Desktop/result.csv',encoding='gbk')"
   ]
  },
  {
   "cell_type": "code",
   "execution_count": null,
   "id": "c78e9cce",
   "metadata": {},
   "outputs": [],
   "source": [
    "result = result.iloc[:,:5]"
   ]
  },
  {
   "cell_type": "code",
   "execution_count": null,
   "id": "87b66366",
   "metadata": {
    "scrolled": true
   },
   "outputs": [],
   "source": [
    "result.fillna(method='ffill',inplace=True)"
   ]
  },
  {
   "cell_type": "code",
   "execution_count": null,
   "id": "70ae1640",
   "metadata": {},
   "outputs": [],
   "source": [
    "LGBM = result.iloc[np.where(result['model']=='LGBMForecaster')]\n",
    "RF = result.iloc[np.where(result['model']=='RandomForestForecaster')]\n",
    "ETF = result.iloc[np.where(result['model']=='ExtraTreesForecaster')]\n",
    "VAR = result.iloc[np.where(result['model']=='VectorAR')]"
   ]
  },
  {
   "cell_type": "code",
   "execution_count": null,
   "id": "b6d6a28b",
   "metadata": {},
   "outputs": [],
   "source": [
    "import seaborn as sns"
   ]
  },
  {
   "cell_type": "code",
   "execution_count": null,
   "id": "2e2ff4ee",
   "metadata": {},
   "outputs": [],
   "source": [
    "plt.rcParams['font.sans-serif']=['SimHei']\n",
    "plt.rcParams['axes.unicode_minus']=False\n",
    "plt.rcParams['figure.figsize'] = [10, 8]\n",
    "plt.rcParams.update({'font.size': 18})\n",
    "sns.lineplot(x='forecast_steps',y='smape',style='单/多变量',markers=True,data=LGBM)\n",
    "plt.title('LGBMForecaster')\n",
    "plt.legend(['单变量','多变量'])\n",
    "plt.savefig('LGBM.jpg')"
   ]
  },
  {
   "cell_type": "code",
   "execution_count": null,
   "id": "291d1d2b",
   "metadata": {},
   "outputs": [],
   "source": [
    "sns.lineplot(x='forecast_steps',y='smape',style='单/多变量',markers=True,data=RF)\n",
    "plt.title('RandomForestForecaster')\n",
    "plt.legend(['单变量','多变量'])\n",
    "plt.savefig('RF.jpg')"
   ]
  },
  {
   "cell_type": "code",
   "execution_count": null,
   "id": "dbf38ce3",
   "metadata": {},
   "outputs": [],
   "source": [
    "sns.lineplot(x='forecast_steps',y='smape',style='单/多变量',markers=True,data=ETF)\n",
    "plt.title('ExtraTreesForecaster')\n",
    "plt.legend(['单变量','多变量'])\n",
    "plt.savefig('ETF.jpg')"
   ]
  },
  {
   "cell_type": "code",
   "execution_count": null,
   "id": "3e09c08f",
   "metadata": {},
   "outputs": [],
   "source": [
    "sns.lineplot(x='forecast_steps',y='smape',style='单/多变量',markers=True,data=VAR)\n",
    "plt.title('VectorAR')\n",
    "plt.legend(['单变量','多变量'])\n",
    "plt.savefig('VAR.jpg')"
   ]
  },
  {
   "cell_type": "code",
   "execution_count": null,
   "id": "a6f98284",
   "metadata": {},
   "outputs": [],
   "source": []
  },
  {
   "cell_type": "code",
   "execution_count": null,
   "id": "d7ae9a38",
   "metadata": {},
   "outputs": [],
   "source": []
  }
 ],
 "metadata": {
  "kernelspec": {
   "display_name": "Python 3",
   "language": "python",
   "name": "python3"
  },
  "language_info": {
   "codemirror_mode": {
    "name": "ipython",
    "version": 3
   },
   "file_extension": ".py",
   "mimetype": "text/x-python",
   "name": "python",
   "nbconvert_exporter": "python",
   "pygments_lexer": "ipython3",
   "version": "3.8.8"
  }
 },
 "nbformat": 4,
 "nbformat_minor": 5
}
